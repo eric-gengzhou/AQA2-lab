{
 "cells": [
  {
   "cell_type": "markdown",
   "metadata": {},
   "source": [
    "# AQA-II Lab 10 Propensity Score Matching\n",
    "### Eric G. Zhou, NYU Wagner School"
   ]
  },
  {
   "cell_type": "markdown",
   "metadata": {},
   "source": [
    "## Treatment effects"
   ]
  },
  {
   "cell_type": "markdown",
   "metadata": {},
   "source": [
    "Assume we have a binary treatment $T_i = \\{1, 0\\}$, and accordingly we observe two outcomes $Y_{1,i}$ and $Y_{0,i}$, indicating the treated and untreated outcome repsectively. Usually, in an observational study, we tend to estimate \n",
    "\n",
    "$$ \\underbrace{\\hat{\\beta}}_{\\text{naive treatment effect estimator}} = E[ (Y_{1,i}|T_i = 1)]  - E[(Y_{0,i}|T_i = 0)],$$\n",
    "\n",
    "however, imagine in a counterfactual world, where we could get a hold of $(Y_{1,i}|T_i = 1)$ and $(Y_{1,i}|T_i = 0)$, which is the outcome when treated and untreated (do not exist, counterfactual); certainly, also $(Y_{0,i}|T_i = 1)$ and $(Y_{0,i}|T_i = 0)$ for the same reason. \n",
    "\n",
    "**Now, can you see what might have been wrong in the equation above?**"
   ]
  },
  {
   "cell_type": "markdown",
   "metadata": {},
   "source": [
    "\\begin{align}\n",
    "\\underbrace{\\hat{\\beta}}_{\\text{naive treatment effect estimator}} & = E[(Y_{1,i}|T_i = 1)] - E[(Y_{0,i}|T_i = 1)] - E[(Y_{0,i}|T_i = 0)] + E[(Y_{0,i}|T_i = 1)] \\\\\n",
    "& = \\underbrace{E[(Y_{1,i} - Y_{0,i}|T_i = 1)]}_{\\text{ATET}} - \\underbrace{E[(Y_{0,i}|T_i = 0)] + E[(Y_{0,i}|T_i = 1)]}_{\\text{selection biase}}\n",
    "\\end{align}\n"
   ]
  },
  {
   "cell_type": "markdown",
   "metadata": {},
   "source": [
    "However, if the **conditional independence assumption (CIA)** holds, i.e., $y_0, y_1 \\perp T|x$, we could derive a different treatment effect than above, why?"
   ]
  },
  {
   "cell_type": "markdown",
   "metadata": {},
   "source": [
    "Becuase in that case the counterfactual outcome will be independent from the treatment status, the implication will then be $(Y_{1,i}|T_i = 1) =(Y_{1,i}|T_i = 0)$ and $(Y_{0,i}|T_i = 1) = (Y_{0,i}|T_i = 0)$. \n"
   ]
  },
  {
   "cell_type": "markdown",
   "metadata": {},
   "source": [
    "So the first equation becomes \n",
    "\n",
    "\\begin{align}\n",
    "\\underbrace{\\hat{\\beta}}_{\\text{naive treatment effect estimator}} & = E[ (Y_{1,i}|T_i = 1)]  - E[(Y_{0,i}|T_i = 0)] \\\\\n",
    "& = \\underbrace{E[ (Y_{1,i}|T_i = 1)]  - E[(Y_{0,i}|T_i = 1)]}_{\\text{ATET}} \\\\\n",
    "& = \\underbrace{E[ (Y_{1,i}|T_i = 0)]  - E[(Y_{0,i}|T_i = 0)]}_{\\text{ATC}} \\\\\n",
    "& = \\underbrace{E[ Y_{1,i}] - E[Y_{0,i}]}_{\\text{ATE}}\n",
    "\\end{align}"
   ]
  },
  {
   "cell_type": "markdown",
   "metadata": {},
   "source": [
    "This is the what **Randomized Control Trial (RCT)** can achieve. "
   ]
  },
  {
   "cell_type": "markdown",
   "metadata": {},
   "source": [
    "In the Propensity Score matching framework, although we assume CIA to obtain ATE, we could still manipulate the propensity weight to calculate ATET and ATC, for example"
   ]
  },
  {
   "cell_type": "markdown",
   "metadata": {},
   "source": [
    "$$ \\text{ATE} = E[y_0 - y_1] = E\\big[ \\frac{(D - p(x))y}{p(x)(1-p(x))}  \\big]$$"
   ]
  },
  {
   "cell_type": "markdown",
   "metadata": {},
   "source": [
    "$$ \\text{ATET} = E[y_0 - y_1| D =1 ] = E\\big[ \\frac{(D - p(x))y}{\\text{Pr}[D=1](1-p(x))}  \\big]$$"
   ]
  },
  {
   "cell_type": "markdown",
   "metadata": {},
   "source": [
    "Question for you all, how to estimate $\\text{Pr}[D=1]$?"
   ]
  },
  {
   "cell_type": "markdown",
   "metadata": {},
   "source": [
    "## Various matching methods"
   ]
  },
  {
   "cell_type": "code",
   "execution_count": 11,
   "metadata": {},
   "outputs": [
    {
     "name": "stdout",
     "output_type": "stream",
     "text": [
      "(10 vars, 614 obs)\n"
     ]
    }
   ],
   "source": [
    "import delim lalonde.csv, clear"
   ]
  },
  {
   "cell_type": "code",
   "execution_count": 13,
   "metadata": {},
   "outputs": [
    {
     "data": {
      "text/html": [
       "<div>\n",
       "<style scoped>\n",
       "    .dataframe tbody tr th:only-of-type {\n",
       "        vertical-align: middle;\n",
       "    }\n",
       "\n",
       "    .dataframe tbody tr th {\n",
       "        vertical-align: top;\n",
       "    }\n",
       "\n",
       "    .dataframe thead th {\n",
       "        text-align: right;\n",
       "    }\n",
       "</style>\n",
       "<table border=\"1\" class=\"dataframe\">\n",
       "  <thead>\n",
       "    <tr style=\"text-align: right;\">\n",
       "      <th></th>\n",
       "      <th>v1</th>\n",
       "      <th>treat</th>\n",
       "      <th>age</th>\n",
       "      <th>educ</th>\n",
       "      <th>race</th>\n",
       "      <th>married</th>\n",
       "      <th>nodegree</th>\n",
       "      <th>re74</th>\n",
       "      <th>re75</th>\n",
       "      <th>re78</th>\n",
       "    </tr>\n",
       "  </thead>\n",
       "  <tbody>\n",
       "    <tr>\n",
       "      <th>1</th>\n",
       "      <td>1</td>\n",
       "      <td>1</td>\n",
       "      <td>37</td>\n",
       "      <td>11</td>\n",
       "      <td>black</td>\n",
       "      <td>1</td>\n",
       "      <td>1</td>\n",
       "      <td>0</td>\n",
       "      <td>0</td>\n",
       "      <td>9930.0459</td>\n",
       "    </tr>\n",
       "    <tr>\n",
       "      <th>2</th>\n",
       "      <td>2</td>\n",
       "      <td>1</td>\n",
       "      <td>22</td>\n",
       "      <td>9</td>\n",
       "      <td>hispan</td>\n",
       "      <td>0</td>\n",
       "      <td>1</td>\n",
       "      <td>0</td>\n",
       "      <td>0</td>\n",
       "      <td>3595.894</td>\n",
       "    </tr>\n",
       "    <tr>\n",
       "      <th>3</th>\n",
       "      <td>3</td>\n",
       "      <td>1</td>\n",
       "      <td>30</td>\n",
       "      <td>12</td>\n",
       "      <td>black</td>\n",
       "      <td>0</td>\n",
       "      <td>0</td>\n",
       "      <td>0</td>\n",
       "      <td>0</td>\n",
       "      <td>24909.449</td>\n",
       "    </tr>\n",
       "    <tr>\n",
       "      <th>4</th>\n",
       "      <td>4</td>\n",
       "      <td>1</td>\n",
       "      <td>27</td>\n",
       "      <td>11</td>\n",
       "      <td>black</td>\n",
       "      <td>0</td>\n",
       "      <td>1</td>\n",
       "      <td>0</td>\n",
       "      <td>0</td>\n",
       "      <td>7506.146</td>\n",
       "    </tr>\n",
       "    <tr>\n",
       "      <th>5</th>\n",
       "      <td>5</td>\n",
       "      <td>1</td>\n",
       "      <td>33</td>\n",
       "      <td>8</td>\n",
       "      <td>black</td>\n",
       "      <td>0</td>\n",
       "      <td>1</td>\n",
       "      <td>0</td>\n",
       "      <td>0</td>\n",
       "      <td>289.78989</td>\n",
       "    </tr>\n",
       "    <tr>\n",
       "      <th>6</th>\n",
       "      <td>6</td>\n",
       "      <td>1</td>\n",
       "      <td>22</td>\n",
       "      <td>9</td>\n",
       "      <td>black</td>\n",
       "      <td>0</td>\n",
       "      <td>1</td>\n",
       "      <td>0</td>\n",
       "      <td>0</td>\n",
       "      <td>4056.4939</td>\n",
       "    </tr>\n",
       "    <tr>\n",
       "      <th>7</th>\n",
       "      <td>7</td>\n",
       "      <td>1</td>\n",
       "      <td>23</td>\n",
       "      <td>12</td>\n",
       "      <td>black</td>\n",
       "      <td>0</td>\n",
       "      <td>0</td>\n",
       "      <td>0</td>\n",
       "      <td>0</td>\n",
       "      <td>0</td>\n",
       "    </tr>\n",
       "    <tr>\n",
       "      <th>8</th>\n",
       "      <td>8</td>\n",
       "      <td>1</td>\n",
       "      <td>32</td>\n",
       "      <td>11</td>\n",
       "      <td>black</td>\n",
       "      <td>0</td>\n",
       "      <td>1</td>\n",
       "      <td>0</td>\n",
       "      <td>0</td>\n",
       "      <td>8472.1582</td>\n",
       "    </tr>\n",
       "    <tr>\n",
       "      <th>9</th>\n",
       "      <td>9</td>\n",
       "      <td>1</td>\n",
       "      <td>22</td>\n",
       "      <td>16</td>\n",
       "      <td>black</td>\n",
       "      <td>0</td>\n",
       "      <td>0</td>\n",
       "      <td>0</td>\n",
       "      <td>0</td>\n",
       "      <td>2164.022</td>\n",
       "    </tr>\n",
       "    <tr>\n",
       "      <th>10</th>\n",
       "      <td>10</td>\n",
       "      <td>1</td>\n",
       "      <td>33</td>\n",
       "      <td>12</td>\n",
       "      <td>white</td>\n",
       "      <td>1</td>\n",
       "      <td>0</td>\n",
       "      <td>0</td>\n",
       "      <td>0</td>\n",
       "      <td>12418.07</td>\n",
       "    </tr>\n",
       "  </tbody>\n",
       "</table>\n",
       "</div>"
      ],
      "text/plain": [
       "\n",
       "     +---------------------------------------------------------------------+\n",
       "  1. | v1 | treat | age | educ |   race | married | nodegree | re74 | re75 |\n",
       "     |  1 |     1 |  37 |   11 |  black |       1 |        1 |    0 |    0 |\n",
       "     |---------------------------------------------------------------------|\n",
       "     |                                  re78                               |\n",
       "     |                              9930.046                               |\n",
       "     +---------------------------------------------------------------------+\n",
       "\n",
       "     +---------------------------------------------------------------------+\n",
       "  2. | v1 | treat | age | educ |   race | married | nodegree | re74 | re75 |\n",
       "     |  2 |     1 |  22 |    9 | hispan |       0 |        1 |    0 |    0 |\n",
       "     |---------------------------------------------------------------------|\n",
       "     |                                  re78                               |\n",
       "     |                              3595.894                               |\n",
       "     +---------------------------------------------------------------------+\n",
       "\n",
       "     +---------------------------------------------------------------------+\n",
       "  3. | v1 | treat | age | educ |   race | married | nodegree | re74 | re75 |\n",
       "     |  3 |     1 |  30 |   12 |  black |       0 |        0 |    0 |    0 |\n",
       "     |---------------------------------------------------------------------|\n",
       "     |                                  re78                               |\n",
       "     |                              24909.45                               |\n",
       "     +---------------------------------------------------------------------+\n",
       "\n",
       "     +---------------------------------------------------------------------+\n",
       "  4. | v1 | treat | age | educ |   race | married | nodegree | re74 | re75 |\n",
       "     |  4 |     1 |  27 |   11 |  black |       0 |        1 |    0 |    0 |\n",
       "     |---------------------------------------------------------------------|\n",
       "     |                                  re78                               |\n",
       "     |                              7506.146                               |\n",
       "     +---------------------------------------------------------------------+\n",
       "\n",
       "     +---------------------------------------------------------------------+\n",
       "  5. | v1 | treat | age | educ |   race | married | nodegree | re74 | re75 |\n",
       "     |  5 |     1 |  33 |    8 |  black |       0 |        1 |    0 |    0 |\n",
       "     |---------------------------------------------------------------------|\n",
       "     |                                  re78                               |\n",
       "     |                              289.7899                               |\n",
       "     +---------------------------------------------------------------------+\n",
       "\n",
       "     +---------------------------------------------------------------------+\n",
       "  6. | v1 | treat | age | educ |   race | married | nodegree | re74 | re75 |\n",
       "     |  6 |     1 |  22 |    9 |  black |       0 |        1 |    0 |    0 |\n",
       "     |---------------------------------------------------------------------|\n",
       "     |                                  re78                               |\n",
       "     |                              4056.494                               |\n",
       "     +---------------------------------------------------------------------+\n",
       "\n",
       "     +---------------------------------------------------------------------+\n",
       "  7. | v1 | treat | age | educ |   race | married | nodegree | re74 | re75 |\n",
       "     |  7 |     1 |  23 |   12 |  black |       0 |        0 |    0 |    0 |\n",
       "     |---------------------------------------------------------------------|\n",
       "     |                                  re78                               |\n",
       "     |                                     0                               |\n",
       "     +---------------------------------------------------------------------+\n",
       "\n",
       "     +---------------------------------------------------------------------+\n",
       "  8. | v1 | treat | age | educ |   race | married | nodegree | re74 | re75 |\n",
       "     |  8 |     1 |  32 |   11 |  black |       0 |        1 |    0 |    0 |\n",
       "     |---------------------------------------------------------------------|\n",
       "     |                                  re78                               |\n",
       "     |                              8472.158                               |\n",
       "     +---------------------------------------------------------------------+\n",
       "\n",
       "     +---------------------------------------------------------------------+\n",
       "  9. | v1 | treat | age | educ |   race | married | nodegree | re74 | re75 |\n",
       "     |  9 |     1 |  22 |   16 |  black |       0 |        0 |    0 |    0 |\n",
       "     |---------------------------------------------------------------------|\n",
       "     |                                  re78                               |\n",
       "     |                              2164.022                               |\n",
       "     +---------------------------------------------------------------------+\n",
       "\n",
       "     +---------------------------------------------------------------------+\n",
       " 10. | v1 | treat | age | educ |   race | married | nodegree | re74 | re75 |\n",
       "     | 10 |     1 |  33 |   12 |  white |       1 |        0 |    0 |    0 |\n",
       "     |---------------------------------------------------------------------|\n",
       "     |                                  re78                               |\n",
       "     |                              12418.07                               |\n",
       "     +---------------------------------------------------------------------+\n",
       "\n"
      ]
     },
     "metadata": {},
     "output_type": "display_data"
    }
   ],
   "source": [
    "%head"
   ]
  },
  {
   "cell_type": "markdown",
   "metadata": {},
   "source": [
    "- The variable `re78` is the outcome variable, and `treat` is the treatment variable, all other variables are control variables. "
   ]
  },
  {
   "cell_type": "markdown",
   "metadata": {},
   "source": [
    "- A naive model "
   ]
  },
  {
   "cell_type": "code",
   "execution_count": 20,
   "metadata": {},
   "outputs": [
    {
     "name": "stdout",
     "output_type": "stream",
     "text": [
      "\n",
      "      Source |       SS           df       MS      Number of obs   =       614\n",
      "-------------+----------------------------------   F(1, 612)       =      0.93\n",
      "       Model |  52124752.5         1  52124752.5   Prob > F        =    0.3342\n",
      "    Residual |  3.4161e+10       612  55817843.2   R-squared       =    0.0015\n",
      "-------------+----------------------------------   Adj R-squared   =   -0.0001\n",
      "       Total |  3.4213e+10       613  55811818.5   Root MSE        =    7471.1\n",
      "\n",
      "------------------------------------------------------------------------------\n",
      "        re78 |      Coef.   Std. Err.      t    P>|t|     [95% Conf. Interval]\n",
      "-------------+----------------------------------------------------------------\n",
      "       treat |  -635.0263   657.1374    -0.97   0.334    -1925.544    655.4916\n",
      "       _cons |    6984.17   360.7097    19.36   0.000     6275.791    7692.549\n",
      "------------------------------------------------------------------------------\n"
     ]
    }
   ],
   "source": [
    "reg re78 treat"
   ]
  },
  {
   "cell_type": "code",
   "execution_count": 56,
   "metadata": {},
   "outputs": [
    {
     "name": "stdout",
     "output_type": "stream",
     "text": [
      "\n",
      "Two-sample t test with equal variances\n",
      "------------------------------------------------------------------------------\n",
      "   Group |     Obs        Mean    Std. Err.   Std. Dev.   [95% Conf. Interval]\n",
      "---------+--------------------------------------------------------------------\n",
      "       0 |     429     6984.17    352.1655    7294.162    6291.981    7676.359\n",
      "       1 |     185    6349.144    578.4229    7867.402    5207.949    7490.338\n",
      "---------+--------------------------------------------------------------------\n",
      "combined |     614    6792.834    301.4942    7470.731    6200.748    7384.921\n",
      "---------+--------------------------------------------------------------------\n",
      "    diff |            635.0263    657.1374               -655.4916    1925.544\n",
      "------------------------------------------------------------------------------\n",
      "    diff = mean(0) - mean(1)                                      t =   0.9664\n",
      "Ho: diff = 0                                     degrees of freedom =      612\n",
      "\n",
      "    Ha: diff < 0                 Ha: diff != 0                 Ha: diff > 0\n",
      " Pr(T < t) = 0.8329         Pr(|T| > |t|) = 0.3342          Pr(T > t) = 0.1671\n"
     ]
    }
   ],
   "source": [
    "ttest re78, by(treat)"
   ]
  },
  {
   "cell_type": "code",
   "execution_count": 21,
   "metadata": {},
   "outputs": [],
   "source": [
    "matrix naive = e(b) "
   ]
  },
  {
   "cell_type": "markdown",
   "metadata": {},
   "source": [
    "- a naive model with controls "
   ]
  },
  {
   "cell_type": "code",
   "execution_count": 22,
   "metadata": {},
   "outputs": [
    {
     "name": "stdout",
     "output_type": "stream",
     "text": [
      "\n",
      "      Source |       SS           df       MS      Number of obs   =       614\n",
      "-------------+----------------------------------   F(9, 604)       =     11.64\n",
      "       Model |  5.0554e+09         9   561713775   Prob > F        =    0.0000\n",
      "    Residual |  2.9157e+10       604  48273544.4   R-squared       =    0.1478\n",
      "-------------+----------------------------------   Adj R-squared   =    0.1351\n",
      "       Total |  3.4213e+10       613  55811818.5   Root MSE        =    6947.9\n",
      "\n",
      "------------------------------------------------------------------------------\n",
      "        re78 |      Coef.   Std. Err.      t    P>|t|     [95% Conf. Interval]\n",
      "-------------+----------------------------------------------------------------\n",
      "       treat |   1548.244   781.2793     1.98   0.048     13.88986    3082.598\n",
      "         age |   12.97763   32.48891     0.40   0.690    -50.82731    76.78258\n",
      "        educ |   403.9412   158.9062     2.54   0.011     91.86538    716.0171\n",
      "             |\n",
      "        race |\n",
      "     hispan  |   1739.541    1018.52     1.71   0.088    -260.7297    3739.812\n",
      "      white  |   1240.644   768.7644     1.61   0.107    -269.1318     2750.42\n",
      "             |\n",
      "     married |   406.6208   695.4723     0.58   0.559    -959.2168    1772.458\n",
      "    nodegree |   259.8174   847.4421     0.31   0.759    -1404.474    1924.108\n",
      "        re74 |   .2963774   .0582726     5.09   0.000     .1819358     .410819\n",
      "        re75 |   .2315259   .1046199     2.21   0.027      .026063    .4369888\n",
      "       _cons |   -1174.13   2456.314    -0.48   0.633    -5998.083    3649.824\n",
      "------------------------------------------------------------------------------\n"
     ]
    }
   ],
   "source": [
    "reg re78 treat age educ i.race married nodegree re74 re75"
   ]
  },
  {
   "cell_type": "code",
   "execution_count": 23,
   "metadata": {},
   "outputs": [],
   "source": [
    "matrix naive_wc = e(b) "
   ]
  },
  {
   "cell_type": "markdown",
   "metadata": {},
   "source": [
    "- Plain PS matching"
   ]
  },
  {
   "cell_type": "code",
   "execution_count": 42,
   "metadata": {},
   "outputs": [
    {
     "name": "stdout",
     "output_type": "stream",
     "text": [
      "\n",
      "Probit regression                               Number of obs     =        614\n",
      "                                                LR chi2(8)        =     265.36\n",
      "                                                Prob > chi2       =     0.0000\n",
      "Log likelihood = -243.06433                     Pseudo R2         =     0.3531\n",
      "\n",
      "------------------------------------------------------------------------------\n",
      "       treat |      Coef.   Std. Err.      z    P>|z|     [95% Conf. Interval]\n",
      "-------------+----------------------------------------------------------------\n",
      "         age |    .008647     .00771     1.12   0.262    -.0064642    .0237583\n",
      "        educ |   .0921263   .0379202     2.43   0.015     .0178041    .1664485\n",
      "             |\n",
      "        race |\n",
      "     hispan  |   -1.24772   .2068295    -6.03   0.000    -1.653098   -.8423414\n",
      "      white  |  -1.775345   .1502617   -11.82   0.000    -2.069852   -1.480837\n",
      "             |\n",
      "     married |  -.4752956   .1638448    -2.90   0.004    -.7964255   -.1541657\n",
      "    nodegree |   .3823247   .1936303     1.97   0.048     .0028164    .7618331\n",
      "        re74 |  -.0000423   .0000159    -2.66   0.008    -.0000735   -.0000111\n",
      "        re75 |   .0000298   .0000266     1.12   0.263    -.0000224     .000082\n",
      "       _cons |   -.893432   .5664259    -1.58   0.115    -2.003606    .2167424\n",
      "------------------------------------------------------------------------------\n",
      "--------------------------------------------------------------------------------\n",
      "> --------\n",
      "        Variable     Sample |    Treated     Controls   Difference         S.E. \n",
      ">   T-stat\n",
      "----------------------------+---------------------------------------------------\n",
      "> --------\n",
      "            re78  Unmatched |  6349.1435   6984.16975   -635.02625   657.137424 \n",
      ">    -0.97\n",
      "                        ATT | 6082.05891   4981.38303   1100.67589   1117.72539 \n",
      ">     0.98\n",
      "----------------------------+---------------------------------------------------\n",
      "> --------\n",
      "Note: S.E. does not take into account that the propensity score is estimated.\n",
      "\n",
      " psmatch2: |   psmatch2: Common\n",
      " Treatment |        support\n",
      "assignment | Off suppo  On suppor |     Total\n",
      "-----------+----------------------+----------\n",
      " Untreated |         0        429 |       429 \n",
      "   Treated |         8        177 |       185 \n",
      "-----------+----------------------+----------\n",
      "     Total |         8        606 |       614 \n"
     ]
    }
   ],
   "source": [
    "psmatch2 treat age educ i.race married nodegree re74 re75, out(re78) common "
   ]
  },
  {
   "cell_type": "markdown",
   "metadata": {},
   "source": [
    "- ask stata to calculate ATE for you"
   ]
  },
  {
   "cell_type": "code",
   "execution_count": 43,
   "metadata": {},
   "outputs": [
    {
     "name": "stdout",
     "output_type": "stream",
     "text": [
      "\n",
      "Probit regression                               Number of obs     =        614\n",
      "                                                LR chi2(8)        =     265.36\n",
      "                                                Prob > chi2       =     0.0000\n",
      "Log likelihood = -243.06433                     Pseudo R2         =     0.3531\n",
      "\n",
      "------------------------------------------------------------------------------\n",
      "       treat |      Coef.   Std. Err.      z    P>|z|     [95% Conf. Interval]\n",
      "-------------+----------------------------------------------------------------\n",
      "         age |    .008647     .00771     1.12   0.262    -.0064642    .0237583\n",
      "        educ |   .0921263   .0379202     2.43   0.015     .0178041    .1664485\n",
      "             |\n",
      "        race |\n",
      "     hispan  |   -1.24772   .2068295    -6.03   0.000    -1.653098   -.8423414\n",
      "      white  |  -1.775345   .1502617   -11.82   0.000    -2.069852   -1.480837\n",
      "             |\n",
      "     married |  -.4752956   .1638448    -2.90   0.004    -.7964255   -.1541657\n",
      "    nodegree |   .3823247   .1936303     1.97   0.048     .0028164    .7618331\n",
      "        re74 |  -.0000423   .0000159    -2.66   0.008    -.0000735   -.0000111\n",
      "        re75 |   .0000298   .0000266     1.12   0.263    -.0000224     .000082\n",
      "       _cons |   -.893432   .5664259    -1.58   0.115    -2.003606    .2167424\n",
      "------------------------------------------------------------------------------\n",
      "--------------------------------------------------------------------------------\n",
      "> --------\n",
      "        Variable     Sample |    Treated     Controls   Difference         S.E. \n",
      ">   T-stat\n",
      "----------------------------+---------------------------------------------------\n",
      "> --------\n",
      "            re78  Unmatched |  6349.1435   6984.16975   -635.02625   657.137424 \n",
      ">    -0.97\n",
      "                        ATT | 6082.05891   4860.46826   1221.59065   1070.88417 \n",
      ">     1.14\n",
      "                        ATU | 5935.21061   7184.80109   1249.59048            . \n",
      ">        .\n",
      "                        ATE |                           1240.51362            . \n",
      ">        .\n",
      "----------------------------+---------------------------------------------------\n",
      "> --------\n",
      "Note: S.E. does not take into account that the propensity score is estimated.\n",
      "\n",
      " psmatch2: |   psmatch2: Common\n",
      " Treatment |        support\n",
      "assignment | Off suppo  On suppor |     Total\n",
      "-----------+----------------------+----------\n",
      " Untreated |        60        369 |       429 \n",
      "   Treated |         8        177 |       185 \n",
      "-----------+----------------------+----------\n",
      "     Total |        68        546 |       614 \n"
     ]
    }
   ],
   "source": [
    "psmatch2 treat age educ i.race married nodegree re74 re75, out(re78) ate common "
   ]
  },
  {
   "cell_type": "markdown",
   "metadata": {},
   "source": [
    "- However, no estimated s.e. avaialble, that's bad, but no worries, stata is nice"
   ]
  },
  {
   "cell_type": "code",
   "execution_count": 45,
   "metadata": {},
   "outputs": [
    {
     "name": "stdout",
     "output_type": "stream",
     "text": [
      "\n",
      "\n",
      "Probit regression                               Number of obs     =        614\n",
      "                                                LR chi2(8)        =     265.36\n",
      "                                                Prob > chi2       =     0.0000\n",
      "Log likelihood = -243.06433                     Pseudo R2         =     0.3531\n",
      "\n",
      "------------------------------------------------------------------------------\n",
      "       treat |      Coef.   Std. Err.      z    P>|z|     [95% Conf. Interval]\n",
      "-------------+----------------------------------------------------------------\n",
      "         age |    .008647     .00771     1.12   0.262    -.0064642    .0237583\n",
      "        educ |   .0921263   .0379202     2.43   0.015     .0178041    .1664485\n",
      "             |\n",
      "        race |\n",
      "     hispan  |   -1.24772   .2068295    -6.03   0.000    -1.653098   -.8423414\n",
      "      white  |  -1.775345   .1502617   -11.82   0.000    -2.069852   -1.480837\n",
      "             |\n",
      "     married |  -.4752956   .1638448    -2.90   0.004    -.7964255   -.1541657\n",
      "    nodegree |   .3823247   .1936303     1.97   0.048     .0028164    .7618331\n",
      "        re74 |  -.0000423   .0000159    -2.66   0.008    -.0000735   -.0000111\n",
      "        re75 |   .0000298   .0000266     1.12   0.263    -.0000224     .000082\n",
      "       _cons |   -.893432   .5664259    -1.58   0.115    -2.003606    .2167424\n",
      "------------------------------------------------------------------------------\n",
      "--------------------------------------------------------------------------------\n",
      "> --------\n",
      "        Variable     Sample |    Treated     Controls   Difference         S.E. \n",
      ">   T-stat\n",
      "----------------------------+---------------------------------------------------\n",
      "> --------\n",
      "            re78  Unmatched |  6349.1435   6984.16975   -635.02625   657.137424 \n",
      ">    -0.97\n",
      "                        ATT | 6082.05891   4860.46826   1221.59065   879.891394 \n",
      ">     1.39\n",
      "                        ATU | 5935.21061   7184.80109   1249.59048   1329.44162 \n",
      ">     0.94\n",
      "                        ATE |                           1240.51362   1014.39156 \n",
      ">     1.22\n",
      "----------------------------+---------------------------------------------------\n",
      "> --------\n",
      "Note: Sample S.E.\n",
      "\n",
      " psmatch2: |   psmatch2: Common\n",
      " Treatment |        support\n",
      "assignment | Off suppo  On suppor |     Total\n",
      "-----------+----------------------+----------\n",
      " Untreated |        60        369 |       429 \n",
      "   Treated |         8        177 |       185 \n",
      "-----------+----------------------+----------\n",
      "     Total |        68        546 |       614 \n",
      "\n",
      "\n",
      "\n"
     ]
    }
   ],
   "source": [
    "psmatch2 treat age educ i.race married nodegree re74 re75, out(re78) ate ai(5) common \n",
    "matrix ps_ate = r(ate)\n",
    "matrix ps_att = r(att)\n",
    "matrix ps_atc = r(atu)"
   ]
  },
  {
   "cell_type": "code",
   "execution_count": 47,
   "metadata": {},
   "outputs": [
    {
     "name": "stdout",
     "output_type": "stream",
     "text": [
      "\n",
      "\n",
      "\n",
      "comb[3,1]\n",
      "           c1\n",
      "r1  1240.5136\n",
      "r1  1221.5907\n",
      "r1  1249.5905\n",
      "\n",
      "\n",
      "naive[1,2]\n",
      "         treat       _cons\n",
      "y1  -635.02625   6984.1698\n",
      "\n",
      "\n",
      "naive_wc[1,11]\n",
      "                                                1b.          2.          3.\n",
      "         treat         age        educ        race        race        race\n",
      "y1   1548.2438   12.977634   403.94124           0   1739.5409   1240.6441\n",
      "\n",
      "                                                               \n",
      "       married    nodegree        re74        re75       _cons\n",
      "y1    406.6208   259.81735   .29637744   .23152588  -1174.1296\n"
     ]
    }
   ],
   "source": [
    "matrix comb =  ps_ate \\ ps_att \\ ps_atc \n",
    "matrix list comb\n",
    "matrix list naive\n",
    "matrix list naive_wc"
   ]
  },
  {
   "cell_type": "markdown",
   "metadata": {},
   "source": [
    "- matching with a kernel smoother"
   ]
  },
  {
   "cell_type": "code",
   "execution_count": 39,
   "metadata": {},
   "outputs": [
    {
     "name": "stdout",
     "output_type": "stream",
     "text": [
      "\n",
      "Probit regression                               Number of obs     =        614\n",
      "                                                LR chi2(8)        =     265.36\n",
      "                                                Prob > chi2       =     0.0000\n",
      "Log likelihood = -243.06433                     Pseudo R2         =     0.3531\n",
      "\n",
      "------------------------------------------------------------------------------\n",
      "       treat |      Coef.   Std. Err.      z    P>|z|     [95% Conf. Interval]\n",
      "-------------+----------------------------------------------------------------\n",
      "         age |    .008647     .00771     1.12   0.262    -.0064642    .0237583\n",
      "        educ |   .0921263   .0379202     2.43   0.015     .0178041    .1664485\n",
      "             |\n",
      "        race |\n",
      "     hispan  |   -1.24772   .2068295    -6.03   0.000    -1.653098   -.8423414\n",
      "      white  |  -1.775345   .1502617   -11.82   0.000    -2.069852   -1.480837\n",
      "             |\n",
      "     married |  -.4752956   .1638448    -2.90   0.004    -.7964255   -.1541657\n",
      "    nodegree |   .3823247   .1936303     1.97   0.048     .0028164    .7618331\n",
      "        re74 |  -.0000423   .0000159    -2.66   0.008    -.0000735   -.0000111\n",
      "        re75 |   .0000298   .0000266     1.12   0.263    -.0000224     .000082\n",
      "       _cons |   -.893432   .5664259    -1.58   0.115    -2.003606    .2167424\n",
      "------------------------------------------------------------------------------\n",
      "--------------------------------------------------------------------------------\n",
      "> --------\n",
      "        Variable     Sample |    Treated     Controls   Difference         S.E. \n",
      ">   T-stat\n",
      "----------------------------+---------------------------------------------------\n",
      "> --------\n",
      "            re78  Unmatched |  6349.1435   6984.16975   -635.02625   657.137424 \n",
      ">    -0.97\n",
      "                        ATT | 6082.05891   5119.87154   962.187372   796.032482 \n",
      ">     1.21\n",
      "                        ATU | 5935.21061   7452.39541    1517.1848            . \n",
      ">        .\n",
      "                        ATE |                           1337.26805            . \n",
      ">        .\n",
      "----------------------------+---------------------------------------------------\n",
      "> --------\n",
      "Note: S.E. does not take into account that the propensity score is estimated.\n",
      "\n",
      " psmatch2: |   psmatch2: Common\n",
      " Treatment |        support\n",
      "assignment | Off suppo  On suppor |     Total\n",
      "-----------+----------------------+----------\n",
      " Untreated |        60        369 |       429 \n",
      "   Treated |         8        177 |       185 \n",
      "-----------+----------------------+----------\n",
      "     Total |        68        546 |       614 \n"
     ]
    }
   ],
   "source": [
    "psmatch2 treat age educ i.race married nodegree re74 re75, kernel k(normal) bw(.1) out(re78) ate common"
   ]
  },
  {
   "cell_type": "code",
   "execution_count": 40,
   "metadata": {},
   "outputs": [
    {
     "name": "stdout",
     "output_type": "stream",
     "text": [
      "Option -ai- only allowed when doing nearest neighbor matching on the covariates \n",
      "> (Mahalanobis)\n"
     ]
    },
    {
     "name": "stderr",
     "output_type": "stream",
     "text": [
      "r(198);\n"
     ]
    },
    {
     "name": "stdout",
     "output_type": "stream",
     "text": [
      "\n"
     ]
    }
   ],
   "source": [
    "psmatch2 treat age educ i.race married nodegree re74 re75, kernel k(normal) bw(.1) out(re78) ate common ai(2)"
   ]
  },
  {
   "cell_type": "markdown",
   "metadata": {},
   "source": [
    "- no s.e., what to do? **Keep calm and bootstrap**"
   ]
  },
  {
   "cell_type": "code",
   "execution_count": 41,
   "metadata": {},
   "outputs": [
    {
     "name": "stdout",
     "output_type": "stream",
     "text": [
      "(running psmatch2 on estimation sample)\n",
      "\n",
      "Bootstrap replications (50)\n",
      "----+--- 1 ---+--- 2 ---+--- 3 ---+--- 4 ---+--- 5 \n",
      "..................................................    50\n",
      "\n",
      "Bootstrap results                               Number of obs     =        614\n",
      "                                                Replications      =         50\n",
      "\n",
      "      command:  psmatch2 treat age educ i.race married nodegree re74 re75,\n",
      "                    kernel k(normal) bw(.1) outcome(re78) ate common\n",
      "        _bs_1:  r(ate)\n",
      "\n",
      "------------------------------------------------------------------------------\n",
      "             |   Observed   Bootstrap                         Normal-based\n",
      "             |      Coef.   Std. Err.      z    P>|z|     [95% Conf. Interval]\n",
      "-------------+----------------------------------------------------------------\n",
      "       _bs_1 |   1337.268   857.8912     1.56   0.119    -344.1678    3018.704\n",
      "------------------------------------------------------------------------------\n"
     ]
    }
   ],
   "source": [
    "bs r(ate) : psmatch2 treat age educ i.race married nodegree re74 re75, kernel k(normal) bw(.1) outcome(re78) ate common "
   ]
  },
  {
   "cell_type": "markdown",
   "metadata": {},
   "source": [
    " - matching with K-nearest neighbor"
   ]
  },
  {
   "cell_type": "code",
   "execution_count": 49,
   "metadata": {},
   "outputs": [
    {
     "name": "stdout",
     "output_type": "stream",
     "text": [
      "\n",
      "\n",
      "Logistic regression                             Number of obs     =        614\n",
      "                                                LR chi2(8)        =     263.65\n",
      "                                                Prob > chi2       =     0.0000\n",
      "Log likelihood = -243.92197                     Pseudo R2         =     0.3508\n",
      "\n",
      "------------------------------------------------------------------------------\n",
      "       treat |      Coef.   Std. Err.      z    P>|z|     [95% Conf. Interval]\n",
      "-------------+----------------------------------------------------------------\n",
      "         age |   .0157771   .0135771     1.16   0.245    -.0108335    .0423876\n",
      "        educ |   .1613069   .0651264     2.48   0.013     .0336614    .2889524\n",
      "             |\n",
      "        race |\n",
      "     hispan  |  -2.081734   .3672147    -5.67   0.000    -2.801462   -1.362007\n",
      "      white  |  -3.065368   .2865262   -10.70   0.000    -3.626949   -2.503787\n",
      "             |\n",
      "     married |  -.8321133   .2903292    -2.87   0.004    -1.401148   -.2630786\n",
      "    nodegree |   .7072969   .3376683     2.09   0.036     .0454792    1.369115\n",
      "        re74 |  -.0000718   .0000287    -2.50   0.013    -.0001281   -.0000154\n",
      "        re75 |   .0000534   .0000463     1.15   0.249    -.0000374    .0001443\n",
      "       _cons |  -1.663282   .9708864    -1.71   0.087    -3.566184    .2396208\n",
      "------------------------------------------------------------------------------\n",
      "--------------------------------------------------------------------------------\n",
      "> --------\n",
      "        Variable     Sample |    Treated     Controls   Difference         S.E. \n",
      ">   T-stat\n",
      "----------------------------+---------------------------------------------------\n",
      "> --------\n",
      "            re78  Unmatched |  6349.1435   6984.16975   -635.02625   657.137424 \n",
      ">    -0.97\n",
      "                        ATT | 6082.05891    4996.9951   1085.06381   881.463181 \n",
      ">     1.23\n",
      "                        ATU | 6065.59082   7206.15431   1140.56349   1176.69584 \n",
      ">     0.97\n",
      "                        ATE |                           1122.67015   928.899151 \n",
      ">     1.21\n",
      "----------------------------+---------------------------------------------------\n",
      "> --------\n",
      "Note: Sample S.E.\n",
      "\n",
      " psmatch2: |   psmatch2: Common\n",
      " Treatment |        support\n",
      "assignment | Off suppo  On suppor |     Total\n",
      "-----------+----------------------+----------\n",
      " Untreated |        57        372 |       429 \n",
      "   Treated |         8        177 |       185 \n",
      "-----------+----------------------+----------\n",
      "     Total |        65        549 |       614 \n"
     ]
    }
   ],
   "source": [
    "psmatch2 treat age educ i.race married nodegree re74 re75, outcome(re78) ate n(4) logit common ai(4)"
   ]
  },
  {
   "cell_type": "markdown",
   "metadata": {},
   "source": [
    "- Mathcing with a local linear regression"
   ]
  },
  {
   "cell_type": "code",
   "execution_count": 54,
   "metadata": {},
   "outputs": [
    {
     "name": "stdout",
     "output_type": "stream",
     "text": [
      "\n",
      "Probit regression                               Number of obs     =        614\n",
      "                                                LR chi2(8)        =     265.36\n",
      "                                                Prob > chi2       =     0.0000\n",
      "Log likelihood = -243.06433                     Pseudo R2         =     0.3531\n",
      "\n",
      "------------------------------------------------------------------------------\n",
      "       treat |      Coef.   Std. Err.      z    P>|z|     [95% Conf. Interval]\n",
      "-------------+----------------------------------------------------------------\n",
      "         age |    .008647     .00771     1.12   0.262    -.0064642    .0237583\n",
      "        educ |   .0921263   .0379202     2.43   0.015     .0178041    .1664485\n",
      "             |\n",
      "        race |\n",
      "     hispan  |   -1.24772   .2068295    -6.03   0.000    -1.653098   -.8423414\n",
      "      white  |  -1.775345   .1502617   -11.82   0.000    -2.069852   -1.480837\n",
      "             |\n",
      "     married |  -.4752956   .1638448    -2.90   0.004    -.7964255   -.1541657\n",
      "    nodegree |   .3823247   .1936303     1.97   0.048     .0028164    .7618331\n",
      "        re74 |  -.0000423   .0000159    -2.66   0.008    -.0000735   -.0000111\n",
      "        re75 |   .0000298   .0000266     1.12   0.263    -.0000224     .000082\n",
      "       _cons |   -.893432   .5664259    -1.58   0.115    -2.003606    .2167424\n",
      "------------------------------------------------------------------------------\n",
      "--------------------------------------------------------------------------------\n",
      "> --------\n",
      "        Variable     Sample |    Treated     Controls   Difference         S.E. \n",
      ">   T-stat\n",
      "----------------------------+---------------------------------------------------\n",
      "> --------\n",
      "            re78  Unmatched |  6349.1435   6984.16975   -635.02625   657.137424 \n",
      ">    -0.97\n",
      "                        ATT | 6082.05891   5238.92492   843.133992   1070.88417 \n",
      ">     0.79\n",
      "                        ATU | 5935.21061    6341.9486   406.737989            . \n",
      ">        .\n",
      "                        ATE |                           548.207023            . \n",
      ">        .\n",
      "----------------------------+---------------------------------------------------\n",
      "> --------\n",
      "Note: S.E. does not take into account that the propensity score is estimated.\n",
      "\n",
      " psmatch2: |   psmatch2: Common\n",
      " Treatment |        support\n",
      "assignment | Off suppo  On suppor |     Total\n",
      "-----------+----------------------+----------\n",
      " Untreated |        60        369 |       429 \n",
      "   Treated |         8        177 |       185 \n",
      "-----------+----------------------+----------\n",
      "     Total |        68        546 |       614 \n"
     ]
    }
   ],
   "source": [
    "psmatch2 treat age educ i.race married nodegree re74 re75, llr  bw(.1) outcome(re78) ate common"
   ]
  },
  {
   "cell_type": "code",
   "execution_count": 57,
   "metadata": {},
   "outputs": [
    {
     "name": "stdout",
     "output_type": "stream",
     "text": [
      "(running psmatch2 on estimation sample)\n",
      "\n",
      "Bootstrap replications (50)\n",
      "----+--- 1 ---+--- 2 ---+--- 3 ---+--- 4 ---+--- 5 \n",
      "..................................................    50\n",
      "\n",
      "Bootstrap results                               Number of obs     =        614\n",
      "                                                Replications      =         50\n",
      "\n",
      "      command:  psmatch2 treat age educ i.race married nodegree re74 re75, llr\n",
      "                    bw(.1) outcome(re78) ate common\n",
      "        _bs_1:  r(att)\n",
      "\n",
      "------------------------------------------------------------------------------\n",
      "             |   Observed   Bootstrap                         Normal-based\n",
      "             |      Coef.   Std. Err.      z    P>|z|     [95% Conf. Interval]\n",
      "-------------+----------------------------------------------------------------\n",
      "       _bs_1 |    843.134   770.1087     1.09   0.274    -666.2513    2352.519\n",
      "------------------------------------------------------------------------------\n"
     ]
    }
   ],
   "source": [
    "bs r(att): psmatch2 treat age educ i.race married nodegree re74 re75, llr  bw(.1) outcome(re78) ate common"
   ]
  },
  {
   "cell_type": "code",
   "execution_count": null,
   "metadata": {},
   "outputs": [],
   "source": []
  }
 ],
 "metadata": {
  "kernelspec": {
   "display_name": "Stata",
   "language": "stata",
   "name": "stata"
  },
  "language_info": {
   "codemirror_mode": "stata",
   "file_extension": ".do",
   "mimetype": "text/x-stata",
   "name": "stata",
   "version": "15.1"
  }
 },
 "nbformat": 4,
 "nbformat_minor": 4
}
