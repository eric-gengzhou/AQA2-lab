{
 "cells": [
  {
   "cell_type": "markdown",
   "metadata": {},
   "source": [
    "# AQA-II Lab 11 Models for Panel Data"
   ]
  },
  {
   "cell_type": "markdown",
   "metadata": {},
   "source": [
    "### Eric G. Zhou, NYU Wagner/Med Scool\n",
    "### 04/16/2020"
   ]
  },
  {
   "cell_type": "markdown",
   "metadata": {},
   "source": [
    "## Panel data"
   ]
  },
  {
   "cell_type": "markdown",
   "metadata": {},
   "source": [
    "Panel data is different from cross-sectional data in being more complex in the data structure. Most of the previous methods we learned are illustrated with cross-sectional data. However, with the development of new research interests and the way we collect data, panel data along with methods suitable for analyzing them emerge in recent decades. They become important tools for us to understand and study variations over time and across individuals/groups."
   ]
  },
  {
   "cell_type": "markdown",
   "metadata": {},
   "source": [
    "- A linear regression model with **cross-sectional** data would look like this:\n",
    "\n",
    "$$ Y_i = \\alpha + \\beta_1 X_{i,1} + \\beta_2 X_{i,2} + ... + \\beta_k X_{i,K} + \\epsilon_i, $$\n",
    "or equivalently\n",
    "$$ Y_i = \\alpha + \\beta_{k} X_{i,k} + \\epsilon_i, $$\n",
    "\n",
    "where the dependent variable $Y$ and error term $\\epsilon$ has the dimension of $[N]$, which is the total number of the observation in this dataset, whereas the independent variable $X$ has the dimension of $[N,K]$, where $K$ is the number of different independent variables."
   ]
  },
  {
   "cell_type": "markdown",
   "metadata": {},
   "source": [
    "- A linear regression model with **panel data** would look like this:\n",
    "\n",
    "$$ Y_{it} = \\alpha + \\beta_1 X_{it,1} + \\beta_2 X_{it,2} + ... + \\beta_k X_{it,k} + \\epsilon_{it}, $$\n",
    "or equivalently\n",
    "$$ Y_{it} = \\alpha + \\beta_k X_{itk} + \\epsilon_{it}.$$\n",
    "\n",
    "What's new compared to the cross-secitonal model is that we for each invidiual or unit we have repeated measurment over time, indicated by the subscripted $t$. No matter the data is formatted as wide or long, we have another dimension in panel data. "
   ]
  },
  {
   "cell_type": "markdown",
   "metadata": {},
   "source": [
    "A couple of more definitions:\n",
    "- Balanced panel: each individual/unit in the dataset is observed the same number of times, usually denoted T\n",
    "- Unbalanced panel: individuals/units may be observed different number of times\n",
    "- fixed panel: the same set of individuals is observed for the duration of the study\n",
    "\n",
    "Previously, we learned about missing/attrition, which is a main reason of unbalanced panel. Most likely the panel dataset we will be working with\n",
    "is an unbalanced panel.\n"
   ]
  },
  {
   "cell_type": "markdown",
   "metadata": {},
   "source": [
    "## Models for Panel Data"
   ]
  },
  {
   "cell_type": "markdown",
   "metadata": {},
   "source": [
    "### Quick motivation\n",
    "\n",
    "for panel data methods, imgaine for the world we live, eveverything is changing all the time, the `trajectory` of person A and B `over time` might be different for many reasons. However, the variation overtime for person A and B might be `stable within oneself` (this might not be true always, so we will add flexibilities in modeling this too later on). Besides, we might not be able to measure all these factors affecting one' trajectory. What we could do though is to break down the error into two parts, a individual/unit-specific error term $u_i$, and a common error term $w_{it}$. And importantly, $\\epsilon_{it} = u_i + w_{it}$.\n",
    "\n",
    "Suppose we could measure the same variable for A and B overtime for a total of $T$ times, the general model we described above can now be written as :\n",
    "\n",
    "\\begin{align}\n",
    "Y_{it} & = \\alpha + \\beta_k X_{itk} + \\epsilon_{it} \\\\\n",
    "& = \\alpha + \\beta_k X_{itk} + u_i + w_{it}\n",
    "\\end{align}\n",
    "\n",
    "Sometimes, people would want to group $\\alpha$ with $u_i$, so the equation becomes:\n",
    "\n",
    "$$Y_{it} = \\beta_k X_{itk} + \\underbrace{c_i}_{= u_i + \\alpha_i} + w_{it},$$\n",
    "\n",
    "hence here $c_i$ is often referred to as individual heterogenous effect.\n",
    "\n",
    "Given the richer information overtime from the panel data as opposed to cross-sectional data, also a special data structure, we could better use methods specially designed for these new tasks."
   ]
  },
  {
   "cell_type": "markdown",
   "metadata": {},
   "source": [
    "### Common assumptions\n",
    "\n",
    "Similar to the OLS estimates, we will also need some basic assumptions that are needed across different types of methods:\n",
    "\n",
    "1. Linearity\n",
    "2. Full rank \n",
    "3. Exogeneity of the independent variables\n",
    "4. Homoscedasticity and nonautocorrelation\n",
    "5. Data generating mechanism - independent observations"
   ]
  },
  {
   "cell_type": "markdown",
   "metadata": {},
   "source": [
    "### A summary for the models we will introduce today\n",
    "\n",
    "1. **Pooled OLS**: a straightforward method that fails to accomodate the special panel data structure\n",
    "2. **Fixed effect model**: also known as within-variation estimator, which makes assumptions to accomodate the special structure\n",
    "3. **Random effects model**: makes strong assumptions to accomodate the special structure, and is a weighted average of the between- and within- effects; can be estimated via Generalized Least Squares (GLS) or MLE\n",
    "4. **Random parameters**: also known as **hierarchical model**, a very flexible model allowing for variations in slopes over-time, based on the random effects model.\n",
    "\n"
   ]
  },
  {
   "cell_type": "markdown",
   "metadata": {},
   "source": [
    "### Introducing the data we will use today"
   ]
  },
  {
   "cell_type": "code",
   "execution_count": 12,
   "metadata": {},
   "outputs": [
    {
     "name": "stdout",
     "output_type": "stream",
     "text": [
      "\n",
      "(National Longitudinal Survey.  Young Women 14-26 years of age in 1968)\n",
      "\n",
      "\n",
      "\n",
      "Contains data from http://www.stata-press.com/data/r13/nlswork4.dta\n",
      "  obs:        28,534                          National Longitudinal Survey.\n",
      "                                                Young Women 14-26 years of age\n",
      "                                                in 1968\n",
      " vars:             6                          29 Jan 2013 16:35\n",
      "--------------------------------------------------------------------------------\n",
      "              storage   display    value\n",
      "variable name   type    format     label      variable label\n",
      "--------------------------------------------------------------------------------\n",
      "idcode          int     %8.0g                 NLS ID\n",
      "year            byte    %8.0g                 interview year\n",
      "age             byte    %8.0g                 age in current year\n",
      "msp             byte    %8.0g                 1 if married, spouse present\n",
      "ttl_exp         float   %9.0g                 total work experience\n",
      "ln_wage         float   %9.0g                 ln(wage/GNP deflator)\n",
      "--------------------------------------------------------------------------------\n",
      "Sorted by: idcode  year\n"
     ]
    }
   ],
   "source": [
    "use http://www.stata-press.com/data/r13/nlswork4\n",
    "sort idcode year\n",
    "describe"
   ]
  },
  {
   "cell_type": "markdown",
   "metadata": {},
   "source": [
    "- Let's see if the data has a panel structure"
   ]
  },
  {
   "cell_type": "code",
   "execution_count": 11,
   "metadata": {},
   "outputs": [
    {
     "data": {
      "text/html": [
       "<div>\n",
       "<style scoped>\n",
       "    .dataframe tbody tr th:only-of-type {\n",
       "        vertical-align: middle;\n",
       "    }\n",
       "\n",
       "    .dataframe tbody tr th {\n",
       "        vertical-align: top;\n",
       "    }\n",
       "\n",
       "    .dataframe thead th {\n",
       "        text-align: right;\n",
       "    }\n",
       "</style>\n",
       "<table border=\"1\" class=\"dataframe\">\n",
       "  <thead>\n",
       "    <tr style=\"text-align: right;\">\n",
       "      <th></th>\n",
       "      <th>idcode</th>\n",
       "      <th>year</th>\n",
       "      <th>age</th>\n",
       "      <th>msp</th>\n",
       "      <th>ttl_exp</th>\n",
       "      <th>ln_wage</th>\n",
       "    </tr>\n",
       "  </thead>\n",
       "  <tbody>\n",
       "    <tr>\n",
       "      <th>1</th>\n",
       "      <td>1</td>\n",
       "      <td>70</td>\n",
       "      <td>18</td>\n",
       "      <td>0</td>\n",
       "      <td>1.0833333</td>\n",
       "      <td>1.451214</td>\n",
       "    </tr>\n",
       "    <tr>\n",
       "      <th>2</th>\n",
       "      <td>1</td>\n",
       "      <td>71</td>\n",
       "      <td>19</td>\n",
       "      <td>1</td>\n",
       "      <td>1.275641</td>\n",
       "      <td>1.0286198</td>\n",
       "    </tr>\n",
       "    <tr>\n",
       "      <th>3</th>\n",
       "      <td>1</td>\n",
       "      <td>72</td>\n",
       "      <td>20</td>\n",
       "      <td>1</td>\n",
       "      <td>2.2564101</td>\n",
       "      <td>1.5899774</td>\n",
       "    </tr>\n",
       "    <tr>\n",
       "      <th>4</th>\n",
       "      <td>1</td>\n",
       "      <td>73</td>\n",
       "      <td>21</td>\n",
       "      <td>1</td>\n",
       "      <td>2.3141024</td>\n",
       "      <td>1.7802728</td>\n",
       "    </tr>\n",
       "    <tr>\n",
       "      <th>5</th>\n",
       "      <td>1</td>\n",
       "      <td>75</td>\n",
       "      <td>23</td>\n",
       "      <td>1</td>\n",
       "      <td>2.775641</td>\n",
       "      <td>1.7770116</td>\n",
       "    </tr>\n",
       "    <tr>\n",
       "      <th>6</th>\n",
       "      <td>1</td>\n",
       "      <td>77</td>\n",
       "      <td>25</td>\n",
       "      <td>0</td>\n",
       "      <td>3.775641</td>\n",
       "      <td>1.7786806</td>\n",
       "    </tr>\n",
       "    <tr>\n",
       "      <th>7</th>\n",
       "      <td>1</td>\n",
       "      <td>78</td>\n",
       "      <td>26</td>\n",
       "      <td>0</td>\n",
       "      <td>3.8525641</td>\n",
       "      <td>2.4939759</td>\n",
       "    </tr>\n",
       "    <tr>\n",
       "      <th>8</th>\n",
       "      <td>1</td>\n",
       "      <td>80</td>\n",
       "      <td>28</td>\n",
       "      <td>0</td>\n",
       "      <td>5.2948718</td>\n",
       "      <td>2.5517154</td>\n",
       "    </tr>\n",
       "    <tr>\n",
       "      <th>9</th>\n",
       "      <td>1</td>\n",
       "      <td>83</td>\n",
       "      <td>31</td>\n",
       "      <td>0</td>\n",
       "      <td>5.2948718</td>\n",
       "      <td>2.4202614</td>\n",
       "    </tr>\n",
       "    <tr>\n",
       "      <th>10</th>\n",
       "      <td>1</td>\n",
       "      <td>85</td>\n",
       "      <td>33</td>\n",
       "      <td>0</td>\n",
       "      <td>7.1602564</td>\n",
       "      <td>2.6141725</td>\n",
       "    </tr>\n",
       "    <tr>\n",
       "      <th>11</th>\n",
       "      <td>1</td>\n",
       "      <td>87</td>\n",
       "      <td>35</td>\n",
       "      <td>0</td>\n",
       "      <td>8.9871798</td>\n",
       "      <td>2.5363736</td>\n",
       "    </tr>\n",
       "    <tr>\n",
       "      <th>12</th>\n",
       "      <td>1</td>\n",
       "      <td>88</td>\n",
       "      <td>37</td>\n",
       "      <td>0</td>\n",
       "      <td>10.333334</td>\n",
       "      <td>2.4629273</td>\n",
       "    </tr>\n",
       "    <tr>\n",
       "      <th>13</th>\n",
       "      <td>2</td>\n",
       "      <td>71</td>\n",
       "      <td>19</td>\n",
       "      <td>1</td>\n",
       "      <td>.71153843</td>\n",
       "      <td>1.3603482</td>\n",
       "    </tr>\n",
       "    <tr>\n",
       "      <th>14</th>\n",
       "      <td>2</td>\n",
       "      <td>72</td>\n",
       "      <td>20</td>\n",
       "      <td>1</td>\n",
       "      <td>1.1346154</td>\n",
       "      <td>1.2061975</td>\n",
       "    </tr>\n",
       "    <tr>\n",
       "      <th>15</th>\n",
       "      <td>2</td>\n",
       "      <td>73</td>\n",
       "      <td>21</td>\n",
       "      <td>1</td>\n",
       "      <td>1.4615384</td>\n",
       "      <td>1.5498829</td>\n",
       "    </tr>\n",
       "    <tr>\n",
       "      <th>16</th>\n",
       "      <td>2</td>\n",
       "      <td>75</td>\n",
       "      <td>23</td>\n",
       "      <td>1</td>\n",
       "      <td>2.2115386</td>\n",
       "      <td>1.8325812</td>\n",
       "    </tr>\n",
       "    <tr>\n",
       "      <th>17</th>\n",
       "      <td>2</td>\n",
       "      <td>77</td>\n",
       "      <td>25</td>\n",
       "      <td>1</td>\n",
       "      <td>3.2115386</td>\n",
       "      <td>1.726721</td>\n",
       "    </tr>\n",
       "    <tr>\n",
       "      <th>18</th>\n",
       "      <td>2</td>\n",
       "      <td>78</td>\n",
       "      <td>26</td>\n",
       "      <td>1</td>\n",
       "      <td>4.2115383</td>\n",
       "      <td>1.6899101</td>\n",
       "    </tr>\n",
       "    <tr>\n",
       "      <th>19</th>\n",
       "      <td>2</td>\n",
       "      <td>80</td>\n",
       "      <td>28</td>\n",
       "      <td>1</td>\n",
       "      <td>6.0961537</td>\n",
       "      <td>1.7269641</td>\n",
       "    </tr>\n",
       "    <tr>\n",
       "      <th>20</th>\n",
       "      <td>2</td>\n",
       "      <td>82</td>\n",
       "      <td>30</td>\n",
       "      <td>1</td>\n",
       "      <td>7.6666665</td>\n",
       "      <td>1.8082886</td>\n",
       "    </tr>\n",
       "  </tbody>\n",
       "</table>\n",
       "</div>"
      ],
      "text/plain": [
       "\n",
       "     +-------------------------------------------------+\n",
       "     | idcode   year   age   msp    ttl_exp    ln_wage |\n",
       "     |-------------------------------------------------|\n",
       "  1. |      1     70    18     0   1.083333   1.451214 |\n",
       "  2. |      1     71    19     1   1.275641    1.02862 |\n",
       "  3. |      1     72    20     1    2.25641   1.589977 |\n",
       "  4. |      1     73    21     1   2.314102   1.780273 |\n",
       "  5. |      1     75    23     1   2.775641   1.777012 |\n",
       "     |-------------------------------------------------|\n",
       "  6. |      1     77    25     0   3.775641   1.778681 |\n",
       "  7. |      1     78    26     0   3.852564   2.493976 |\n",
       "  8. |      1     80    28     0   5.294872   2.551715 |\n",
       "  9. |      1     83    31     0   5.294872   2.420261 |\n",
       " 10. |      1     85    33     0   7.160256   2.614172 |\n",
       "     |-------------------------------------------------|\n",
       " 11. |      1     87    35     0    8.98718   2.536374 |\n",
       " 12. |      1     88    37     0   10.33333   2.462927 |\n",
       " 13. |      2     71    19     1   .7115384   1.360348 |\n",
       " 14. |      2     72    20     1   1.134615   1.206198 |\n",
       " 15. |      2     73    21     1   1.461538   1.549883 |\n",
       "     |-------------------------------------------------|\n",
       " 16. |      2     75    23     1   2.211539   1.832581 |\n",
       " 17. |      2     77    25     1   3.211539   1.726721 |\n",
       " 18. |      2     78    26     1   4.211538    1.68991 |\n",
       " 19. |      2     80    28     1   6.096154   1.726964 |\n",
       " 20. |      2     82    30     1   7.666667   1.808289 |\n",
       "     +-------------------------------------------------+\n",
       "\n"
      ]
     },
     "metadata": {},
     "output_type": "display_data"
    }
   ],
   "source": [
    "%head 20"
   ]
  },
  {
   "cell_type": "markdown",
   "metadata": {},
   "source": [
    "- in this dataset, `idcode` is the $i$ dimension, `year` is the $t$ dimension, we have 3 independent variables `age`, `msp` and `tt_exp`, and 1 dependent variable `ln_wage`. Conincidentlly, all 3 independent variables are time-variant."
   ]
  },
  {
   "cell_type": "code",
   "execution_count": 13,
   "metadata": {},
   "outputs": [
    {
     "name": "stdout",
     "output_type": "stream",
     "text": [
      "       panel variable:  idcode (unbalanced)\n",
      "        time variable:  year, 68 to 88, but with gaps\n",
      "                delta:  1 unit\n"
     ]
    }
   ],
   "source": [
    "xtset idcode year"
   ]
  },
  {
   "cell_type": "markdown",
   "metadata": {},
   "source": [
    "- the command above is to set up the data as a panel structure that `stata` understands. As you can see, it's not a balanced panel, i.e., some respondents attrited in some years. "
   ]
  },
  {
   "cell_type": "code",
   "execution_count": 14,
   "metadata": {},
   "outputs": [
    {
     "name": "stdout",
     "output_type": "stream",
     "text": [
      "\n",
      "Duplicates in terms of idcode year\n",
      "\n",
      "--------------------------------------\n",
      "   copies | observations       surplus\n",
      "----------+---------------------------\n",
      "        1 |        28534             0\n",
      "--------------------------------------\n"
     ]
    }
   ],
   "source": [
    "duplicates report idcode year"
   ]
  },
  {
   "cell_type": "markdown",
   "metadata": {},
   "source": [
    "- in dataset like this, it's always to check for duplicates -- you don't want to doule count your estimates. Results above show that we do not have duplicates in terms of `idcode` and `year`.\n",
    "\n",
    "- Question for you, why do we check duplicates for `idcode` and `year`? Should we check for other variables? Why or why not?"
   ]
  },
  {
   "cell_type": "markdown",
   "metadata": {},
   "source": [
    "## 1. The pooled regression model"
   ]
  },
  {
   "cell_type": "markdown",
   "metadata": {},
   "source": [
    "The simplest model and often a starting point of panel data analysis. The specification goes as:\n",
    "\n",
    "$$ y_{it} = \\alpha + x^\\prime_{it} \\beta + \\epsilon_{it}$$\n",
    "\n",
    "For us to unbiasedly estimate $\\beta$, we need the assumptions below:\n",
    "\n"
   ]
  },
  {
   "cell_type": "markdown",
   "metadata": {},
   "source": [
    "\\begin{align}\n",
    "E[\\epsilon_{it}|X_{it}] & = 0 \\\\\n",
    "Var[\\epsilon_{it}|X_{it}] & = \\sigma^2_{\\epsilon} \\\\\n",
    "Cov[\\epsilon_{it},\\epsilon_{js}|X_{it}] & = 0 \\text{ if } i \\neq j \\text{ or } t \\neq s\n",
    "\\end{align}"
   ]
  },
  {
   "cell_type": "markdown",
   "metadata": {},
   "source": [
    "Question, what does the 3rd assumption talk about? \n",
    "\n",
    "However, in reality, the 3rd assumption is almost never met. So we would have a problem of **autocorrelation**. \n",
    "\n",
    "As from the specification under motivation section, we can see that $E[w_{it}w_{is}] = \\sigma^2_{u}$ when $t \\neq s$. This actially says the unexplained error term is correlated when the same unit i is measured at different time points. \n",
    "\n",
    "The consequences of this problem is that the OLS estimator may be consistent, but the conventional variance estimator will be an underestimate of true variance. In other words, $\\hat{\\beta}_{ols} \\sim = \\beta$, and $Var(\\hat{\\beta})\\leq Var(\\beta)$. We have two remedies, one is your old friend, **robust covariance matrix estimation** and another is **cluster and stratification**\n",
    "\n",
    "Below is an exmaple of how to implement this in `stata`:"
   ]
  },
  {
   "cell_type": "code",
   "execution_count": 18,
   "metadata": {},
   "outputs": [],
   "source": [
    "quietly reg ln_wage age msp ttl_exp\n",
    "estimates store m1\n",
    "quietly reg ln_wage age msp ttl_exp, r\n",
    "estimates store m2\n",
    "quietly reg ln_wage age msp ttl_exp, r cluster(id)\n",
    "estimates store m3"
   ]
  },
  {
   "cell_type": "code",
   "execution_count": 20,
   "metadata": {},
   "outputs": [
    {
     "name": "stdout",
     "output_type": "stream",
     "text": [
      "\n",
      "Results of pooled OLS\n",
      "\n",
      "--------------------------------------------\n",
      "    Variable |   m1        m2        m3     \n",
      "-------------+------------------------------\n",
      "         age |   -0.01     -0.01     -0.01  \n",
      "             |   0.001     0.001     0.001  \n",
      "         msp |    0.01      0.01      0.01  \n",
      "             |   0.005     0.005     0.010  \n",
      "     ttl_exp |    0.05      0.05      0.05  \n",
      "             |   0.001     0.001     0.002  \n",
      "       _cons |    1.55      1.55      1.55  \n",
      "             |   0.014     0.014     0.024  \n",
      "-------------+------------------------------\n",
      "           N |   28494     28494     28494  \n",
      "        r2_a |    0.18      0.18      0.18  \n",
      "--------------------------------------------\n",
      "                                legend: b/se\n"
     ]
    }
   ],
   "source": [
    "estimate table m1 m2 m3, stats(N r2_a) b(%7.2f) se(%7.3f) ti(\"Results of pooled OLS\")"
   ]
  },
  {
   "cell_type": "markdown",
   "metadata": {},
   "source": [
    "### The between- and within-groups estimators\n",
    "\n",
    "To make things slightly more complicated, let's see how our estimations can be different. \n",
    "\n",
    "We talked about this: \n",
    "$$ y_{it} = \\alpha + x^\\prime_{it} \\beta + \\epsilon_{it}$$\n",
    "\n",
    "We can also estimate in terms of group means:\n",
    "\n",
    "$$\\bar{y}_{i} = \\alpha + \\bar{x}^\\prime_{i} \\beta + \\bar{\\epsilon}_{i}$$\n",
    "\n",
    "also in terms of deviations from the group means:\n",
    "$$y_{it} - \\bar{y}_{i} = \\alpha + (x_{it} - \\bar{x}_{i})^\\prime \\beta + \\epsilon_{it} - \\bar{\\epsilon}_{i}$$\n",
    "\n",
    "lastly, let's denote $\\bar{\\bar{x}}$ and $\\bar{\\bar{y}}$ as the overall mean for the dataset. \n",
    "\n",
    "Remember from AQA-I, we learned the notion of total sums of squares, and it's important to know the following:\n",
    "\n",
    "$$ S^{total}_{xy} = \\sum^n_{i=1} \\sum^T_{t=1} (x_{it} - \\bar{\\bar{x}}) (y_{it} - \\bar{\\bar{y}})$$\n",
    "\n",
    "so the within-group sums of squares are: \n",
    "$$ S^{within}_{xy} = \\sum^n_{i=1} \\sum^T_{t=1} (x_{it} - \\bar{x_i}) (y_{it} - \\bar{y_i})$$\n",
    "\n",
    "so the between-group sums of squares are: \n",
    "$$ S^{between}_{xy} = \\sum^n_{i=1} \\sum^T_{t=1} (\\bar{x}_{i} - \\bar{\\bar{x}}) (\\bar{y_{i}} - \\bar{\\bar{y}})$$\n",
    "\n",
    "it's not hard to see that \n",
    "\n",
    "$$ S^{total}_{xy} =  S^{within}_{xy} + S^{between}_{xy} $$\n",
    "\n",
    "similiarly we have the properties for \n",
    "\n",
    "$$ S^{total}_{xx} =  S^{within}_{xx} + S^{between}_{xx} $$\n",
    "\n",
    "Mostly importantly and equivalent to the OLS estimator,\n",
    "\n",
    "$$b^{total} = [S^{total}_{xx}]^{-1} S^{total}_{xy} = [S^{within}_{xx} + S^{between}_{xx}]^{-1} [S^{within}_{xy} + S^{between}_{xy}]$$"
   ]
  },
  {
   "cell_type": "markdown",
   "metadata": {},
   "source": [
    "Based on the equations above, we can see that \n",
    "\n",
    "$$ b^{within} = [S^{within}_{xx}]^{-1}S^{within}_{xy} $$\n",
    "\n",
    "and \n",
    "\n",
    "$$ b^{between} = [S^{between}_{xx}]^{-1}S^{between}_{xy} $$\n",
    "\n",
    "Question for you, what can you say about $b^{total}$? "
   ]
  },
  {
   "cell_type": "markdown",
   "metadata": {},
   "source": [
    "## 2. Fixed effects model"
   ]
  },
  {
   "cell_type": "markdown",
   "metadata": {},
   "source": [
    "The fixed effects model aries from the assumption that the **omitted effects $c_i$** in the general model is **correlated** with the included variables.\n",
    "\n",
    "$$ Y_{it} = \\beta_k X_{itk} + \\underbrace{c_i}_{= u_i + \\alpha_i} + w_{it},$$\n",
    "\n",
    "To control for the individual-specific effects that does not vary across time, we are given each individual a separate intercept. Because this specification has the same effect has adding a dummy variable for each person, the model is sometimes referred to as the **least squares dummy variable model (LSDV)**.\n",
    "\n",
    "We could write down the estimator \n",
    "\n",
    "$$ b = [X^\\prime M_D X]^{-1} [X^\\prime M_D Y] = b^{within}$$"
   ]
  },
  {
   "cell_type": "markdown",
   "metadata": {},
   "source": [
    "### Two-way fixed effects"
   ]
  },
  {
   "cell_type": "markdown",
   "metadata": {},
   "source": [
    "People are abmitious and wish to not only control for inidividual-specific unobserables, but also time-specifics. So people invent this method, which turns out to be a natural extension of the usual one-way fixed effects model. \n",
    "\n",
    "$$ Y_{it} = \\beta_k X_{itk} + \\delta_t + \\underbrace{c_i}_{= u_i + \\alpha_i} + w_{it}$$ "
   ]
  },
  {
   "cell_type": "markdown",
   "metadata": {},
   "source": [
    "Let's see how we can go at them in `stata`"
   ]
  },
  {
   "cell_type": "code",
   "execution_count": 33,
   "metadata": {},
   "outputs": [],
   "source": [
    "quietly xtreg ln_wage age msp ttl_exp, fe\n",
    "estimates store m4\n",
    "quietly areg ln_wage age msp ttl_exp i.year, a(idcode)\n",
    "estimates store m5"
   ]
  },
  {
   "cell_type": "code",
   "execution_count": 24,
   "metadata": {},
   "outputs": [
    {
     "name": "stdout",
     "output_type": "stream",
     "text": [
      "\n",
      "Compare LSDV & 2-way FE\n",
      "\n",
      "----------------------------------\n",
      "    Variable |   m4        m5     \n",
      "-------------+--------------------\n",
      "         age |   -0.01      0.01  \n",
      "             |   0.001     0.010  \n",
      "         msp |    0.00     -0.00  \n",
      "             |   0.005     0.006  \n",
      "     ttl_exp |    0.04      0.04  \n",
      "             |   0.001     0.001  \n",
      "             |\n",
      "        year |\n",
      "         69  |              0.06  \n",
      "             |             0.016  \n",
      "         70  |             -0.00  \n",
      "             |             0.023  \n",
      "         71  |              0.01  \n",
      "             |             0.032  \n",
      "         72  |             -0.01  \n",
      "             |             0.042  \n",
      "         73  |             -0.03  \n",
      "             |             0.051  \n",
      "         75  |             -0.07  \n",
      "             |             0.071  \n",
      "         77  |             -0.07  \n",
      "             |             0.090  \n",
      "         78  |             -0.08  \n",
      "             |             0.101  \n",
      "         80  |             -0.15  \n",
      "             |             0.120  \n",
      "         82  |             -0.22  \n",
      "             |             0.140  \n",
      "         83  |             -0.24  \n",
      "             |             0.150  \n",
      "         85  |             -0.28  \n",
      "             |             0.170  \n",
      "         87  |             -0.35  \n",
      "             |             0.191  \n",
      "         88  |             -0.35  \n",
      "             |             0.204  \n",
      "             |\n",
      "       _cons |    1.59      1.18  \n",
      "             |   0.018     0.191  \n",
      "-------------+--------------------\n",
      "           N |   28494     28494  \n",
      "        r2_a |   -0.03      0.62  \n",
      "----------------------------------\n",
      "                      legend: b/se\n"
     ]
    }
   ],
   "source": [
    "estimate table m4 m5, stats(N r2_a) b(%7.2f) se(%7.3f) ti(\"Compare LSDV & 2-way FE\")"
   ]
  },
  {
   "cell_type": "markdown",
   "metadata": {},
   "source": [
    "## 3. Random effects"
   ]
  },
  {
   "cell_type": "markdown",
   "metadata": {},
   "source": [
    "Compared to fixed effects, random effects model assumes that the unobserved individual-specific effect $c_i$ is not correlated with the included variables. The benefits of random effects is that we can greatly reduce the parameters to be estimated, but could result in inconsistent estimates, if the assumption is violated. \n",
    "\n",
    "The model writes as:\n",
    "\n",
    "$$ Y_{it} = \\beta_k X_{itk} +  (u_i + \\alpha) + w_{it}$$\n",
    "\n",
    "and we say the $u_i$ is the random heteogeneity specific to the ith observation and is constant through time.\n",
    "\n",
    "Suppose we could write the sum of the two error terms into one as:\n",
    "\n",
    "$$ \\eta_{it} = w_{it} + u_i$$\n",
    "\n",
    "The error components can be broken down into \n",
    "\n",
    "$$E[\\eta^2_{it}|X] = \\sigma^2_{w} + \\sigma^2_{u}$$ \n",
    "\n",
    "and \n",
    "\n",
    "$$ E[\\eta_{it} \\eta_{is}|X] = \\sigma^2_{u}, t \\neq s$$ \n",
    "\n",
    "$$ E[\\eta_{it} \\eta_{js}|X] = 0, \\forall \\text{ } t \\text{ and } s \\text{ if } i \\neq j$$ \n"
   ]
  },
  {
   "cell_type": "markdown",
   "metadata": {},
   "source": [
    "Here is how we can do this in `stata`"
   ]
  },
  {
   "cell_type": "code",
   "execution_count": 25,
   "metadata": {},
   "outputs": [],
   "source": [
    "quietly xtreg ln_wage age msp ttl_exp, re\n",
    "estimates store m6\n",
    "quietly xtreg ln_wage age msp ttl_exp, mle\n",
    "estimates store m7"
   ]
  },
  {
   "cell_type": "code",
   "execution_count": 26,
   "metadata": {},
   "outputs": [
    {
     "name": "stdout",
     "output_type": "stream",
     "text": [
      "\n",
      "Compare RE in GLS and MLE\n",
      "\n",
      "----------------------------------\n",
      "    Variable |   m6        m7     \n",
      "-------------+--------------------\n",
      "_            |\n",
      "         age |   -0.01            \n",
      "             |   0.001            \n",
      "         msp |    0.00            \n",
      "             |   0.005            \n",
      "     ttl_exp |    0.04            \n",
      "             |   0.001            \n",
      "       _cons |    1.61            \n",
      "             |   0.016            \n",
      "-------------+--------------------\n",
      "ln_wage      |\n",
      "         age |             -0.01  \n",
      "             |             0.001  \n",
      "         msp |              0.00  \n",
      "             |             0.005  \n",
      "     ttl_exp |              0.04  \n",
      "             |             0.001  \n",
      "       _cons |              1.61  \n",
      "             |             0.016  \n",
      "-------------+--------------------\n",
      "sigma_u      |\n",
      "       _cons |              0.33  \n",
      "             |             0.004  \n",
      "-------------+--------------------\n",
      "sigma_e      |\n",
      "       _cons |              0.30  \n",
      "             |             0.001  \n",
      "-------------+--------------------\n",
      "Statistics   |                    \n",
      "           N |   28494     28494  \n",
      "        r2_a |                    \n",
      "----------------------------------\n",
      "                      legend: b/se\n"
     ]
    }
   ],
   "source": [
    "estimate table m6 m7, stats(N r2_a) b(%7.2f) se(%7.3f) ti(\"Compare RE in GLS and MLE\")"
   ]
  },
  {
   "cell_type": "code",
   "execution_count": 27,
   "metadata": {},
   "outputs": [
    {
     "name": "stdout",
     "output_type": "stream",
     "text": [
      "\n",
      "Random-effects GLS regression                   Number of obs     =     28,494\n",
      "Group variable: idcode                          Number of groups  =      4,710\n",
      "\n",
      "R-sq:                                           Obs per group:\n",
      "     within  = 0.1373                                         min =          1\n",
      "     between = 0.2552                                         avg =        6.0\n",
      "     overall = 0.1797                                         max =         15\n",
      "\n",
      "                                                Wald chi2(3)      =    5100.33\n",
      "corr(u_i, X)   = 0 (assumed)                    Prob > chi2       =     0.0000\n",
      "\n",
      "------------------------------------------------------------------------------\n",
      "     ln_wage |      Coef.   Std. Err.      z    P>|z|     [95% Conf. Interval]\n",
      "-------------+----------------------------------------------------------------\n",
      "         age |  -.0069749   .0006882   -10.13   0.000    -.0083238   -.0056259\n",
      "         msp |   .0046594   .0051012     0.91   0.361    -.0053387    .0146575\n",
      "     ttl_exp |   .0429635   .0010169    42.25   0.000     .0409704    .0449567\n",
      "       _cons |   1.609916   .0159176   101.14   0.000     1.578718    1.641114\n",
      "-------------+----------------------------------------------------------------\n",
      "     sigma_u |  .32648519\n",
      "     sigma_e |  .29751014\n",
      "         rho |  .54633481   (fraction of variance due to u_i)\n",
      "------------------------------------------------------------------------------\n"
     ]
    }
   ],
   "source": [
    "xtreg ln_wage age msp ttl_exp, re"
   ]
  },
  {
   "cell_type": "code",
   "execution_count": 29,
   "metadata": {},
   "outputs": [
    {
     "name": "stdout",
     "output_type": "stream",
     "text": [
      "\n",
      "Compare all models at once\n",
      "\n",
      "----------------------------------------------------------------\n",
      "    Variable |   m3        m4        m5        m6        m7     \n",
      "-------------+--------------------------------------------------\n",
      "_            |\n",
      "         age |   -0.01     -0.01      0.01     -0.01            \n",
      "             |   0.001     0.001     0.010     0.001            \n",
      "         msp |    0.01      0.00     -0.00      0.00            \n",
      "             |   0.010     0.005     0.006     0.005            \n",
      "     ttl_exp |    0.05      0.04      0.04      0.04            \n",
      "             |   0.002     0.001     0.001     0.001            \n",
      "             |\n",
      "        year |\n",
      "         69  |                        0.06                      \n",
      "             |                       0.016                      \n",
      "         70  |                       -0.00                      \n",
      "             |                       0.023                      \n",
      "         71  |                        0.01                      \n",
      "             |                       0.032                      \n",
      "         72  |                       -0.01                      \n",
      "             |                       0.042                      \n",
      "         73  |                       -0.03                      \n",
      "             |                       0.051                      \n",
      "         75  |                       -0.07                      \n",
      "             |                       0.071                      \n",
      "         77  |                       -0.07                      \n",
      "             |                       0.090                      \n",
      "         78  |                       -0.08                      \n",
      "             |                       0.101                      \n",
      "         80  |                       -0.15                      \n",
      "             |                       0.120                      \n",
      "         82  |                       -0.22                      \n",
      "             |                       0.140                      \n",
      "         83  |                       -0.24                      \n",
      "             |                       0.150                      \n",
      "         85  |                       -0.28                      \n",
      "             |                       0.170                      \n",
      "         87  |                       -0.35                      \n",
      "             |                       0.191                      \n",
      "         88  |                       -0.35                      \n",
      "             |                       0.204                      \n",
      "             |\n",
      "       _cons |    1.55      1.59      1.18      1.61            \n",
      "             |   0.024     0.018     0.191     0.016            \n",
      "-------------+--------------------------------------------------\n",
      "ln_wage      |\n",
      "         age |                                           -0.01  \n",
      "             |                                           0.001  \n",
      "         msp |                                            0.00  \n",
      "             |                                           0.005  \n",
      "     ttl_exp |                                            0.04  \n",
      "             |                                           0.001  \n",
      "       _cons |                                            1.61  \n",
      "             |                                           0.016  \n",
      "-------------+--------------------------------------------------\n",
      "sigma_u      |\n",
      "       _cons |                                            0.33  \n",
      "             |                                           0.004  \n",
      "-------------+--------------------------------------------------\n",
      "sigma_e      |\n",
      "       _cons |                                            0.30  \n",
      "             |                                           0.001  \n",
      "-------------+--------------------------------------------------\n",
      "Statistics   |                                                  \n",
      "           N |   28494     28494     28494     28494     28494  \n",
      "        r2_a |    0.18     -0.03      0.62                      \n",
      "----------------------------------------------------------------\n",
      "                                                    legend: b/se\n"
     ]
    }
   ],
   "source": [
    "estimate table m3 m4 m5 m6 m7, stats(N r2_a) b(%7.2f) se(%7.3f) ti(\"Compare all models at once\")"
   ]
  },
  {
   "cell_type": "markdown",
   "metadata": {},
   "source": [
    "At the very last, how do we know whether to use FE or RE? \n",
    "\n",
    "- assumptions\n",
    "- theories\n",
    "- strategies\n",
    "- also tests"
   ]
  },
  {
   "cell_type": "code",
   "execution_count": 31,
   "metadata": {},
   "outputs": [
    {
     "name": "stdout",
     "output_type": "stream",
     "text": [
      "\n",
      "\n",
      "\n",
      "                 ---- Coefficients ----\n",
      "             |      (b)          (B)            (b-B)     sqrt(diag(V_b-V_B))\n",
      "             |       m4           .          Difference          S.E.\n",
      "-------------+----------------------------------------------------------------\n",
      "         age |    -.005485    -.0069749        .0014899        .0004803\n",
      "         msp |    .0033427     .0046594       -.0013167        .0020596\n",
      "     ttl_exp |    .0383604     .0429635       -.0046031        .0007181\n",
      "------------------------------------------------------------------------------\n",
      "                           b = consistent under Ho and Ha; obtained from xtreg\n",
      "            B = inconsistent under Ha, efficient under Ho; obtained from xtreg\n",
      "\n",
      "    Test:  Ho:  difference in coefficients not systematic\n",
      "\n",
      "                  chi2(3) = (b-B)'[(V_b-V_B)^(-1)](b-B)\n",
      "                          =      260.40\n",
      "                Prob>chi2 =      0.0000\n"
     ]
    }
   ],
   "source": [
    "quietly xtreg ln_wage age msp ttl_exp, re\n",
    "hausman m4 ., sigmamore"
   ]
  },
  {
   "cell_type": "markdown",
   "metadata": {},
   "source": [
    "Results above shows that RE model is rejected compared to FE -- which makes sense as we have only 3 variables in the regression equation, a lot variation in the data is left unexplained. "
   ]
  },
  {
   "cell_type": "code",
   "execution_count": null,
   "metadata": {},
   "outputs": [],
   "source": []
  }
 ],
 "metadata": {
  "kernelspec": {
   "display_name": "Stata",
   "language": "stata",
   "name": "stata"
  },
  "language_info": {
   "codemirror_mode": "stata",
   "file_extension": ".do",
   "mimetype": "text/x-stata",
   "name": "stata",
   "version": "15.1"
  }
 },
 "nbformat": 4,
 "nbformat_minor": 4
}
